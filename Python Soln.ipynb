{
 "cells": [
  {
   "cell_type": "markdown",
   "metadata": {
    "colab_type": "text",
    "id": "9O__loLwW0cp"
   },
   "source": [
    "# SECTION A: 15 MARKS"
   ]
  },
  {
   "cell_type": "markdown",
   "metadata": {
    "colab_type": "text",
    "id": "7xtvJfT3W0cq"
   },
   "source": [
    " _________________"
   ]
  },
  {
   "cell_type": "markdown",
   "metadata": {
    "colab_type": "text",
    "id": "4Aga-ym0X69I"
   },
   "source": [
    "### 1.\tWrite a Program to\n",
    "\n",
    "A.\tCreate a list of numbers from 1 to 10 in python (do not hardcode numbers). (1 MARKS)\n",
    "\n",
    "B.\tFind the number of elements present in the list. (1 MARKS)\n",
    "\n",
    "C.\tConvert the above list into a series. (1 MARKS)\n",
    "\n",
    "D.\tDisplay the elements at even position (as per the index values). (1 MARKS)\n",
    "\n",
    "E.\tAdd the elements 11,12 and 13 to the existing series. (1 MARKS)\n"
   ]
  },
  {
   "cell_type": "markdown",
   "metadata": {
    "colab": {},
    "colab_type": "code",
    "id": "HjP8whsNX69K"
   },
   "source": [
    "1.A\n"
   ]
  },
  {
   "cell_type": "code",
   "execution_count": 3,
   "metadata": {},
   "outputs": [
    {
     "data": {
      "text/plain": [
       "[1, 2, 3, 4, 5, 6, 7, 8, 9]"
      ]
     },
     "execution_count": 3,
     "metadata": {},
     "output_type": "execute_result"
    }
   ],
   "source": [
    "no = list(range(1,10))\n",
    "no"
   ]
  },
  {
   "cell_type": "markdown",
   "metadata": {},
   "source": [
    "1.B"
   ]
  },
  {
   "cell_type": "code",
   "execution_count": 5,
   "metadata": {},
   "outputs": [
    {
     "data": {
      "text/plain": [
       "9"
      ]
     },
     "execution_count": 5,
     "metadata": {},
     "output_type": "execute_result"
    }
   ],
   "source": [
    "len(no)"
   ]
  },
  {
   "cell_type": "markdown",
   "metadata": {},
   "source": [
    "1.C"
   ]
  },
  {
   "cell_type": "code",
   "execution_count": 10,
   "metadata": {},
   "outputs": [
    {
     "data": {
      "text/plain": [
       "0    1\n",
       "1    2\n",
       "2    3\n",
       "3    4\n",
       "4    5\n",
       "5    6\n",
       "6    7\n",
       "7    8\n",
       "8    9\n",
       "dtype: int64"
      ]
     },
     "execution_count": 10,
     "metadata": {},
     "output_type": "execute_result"
    }
   ],
   "source": [
    "import numpy as np\n",
    "import pandas as pd\n",
    "\n",
    "x= pd.Series([1, 2, 3, 4, 5, 6, 7, 8, 9])\n",
    "x"
   ]
  },
  {
   "cell_type": "markdown",
   "metadata": {},
   "source": [
    "1.D"
   ]
  },
  {
   "cell_type": "code",
   "execution_count": 11,
   "metadata": {},
   "outputs": [
    {
     "data": {
      "text/plain": [
       "0    1\n",
       "2    3\n",
       "4    5\n",
       "6    7\n",
       "8    9\n",
       "dtype: int64"
      ]
     },
     "execution_count": 11,
     "metadata": {},
     "output_type": "execute_result"
    }
   ],
   "source": [
    "x[::2]"
   ]
  },
  {
   "cell_type": "markdown",
   "metadata": {},
   "source": [
    "1.E"
   ]
  },
  {
   "cell_type": "code",
   "execution_count": 15,
   "metadata": {},
   "outputs": [
    {
     "name": "stdout",
     "output_type": "stream",
     "text": [
      "0      1\n",
      "1      2\n",
      "2      3\n",
      "3      4\n",
      "4      5\n",
      "5      6\n",
      "6      7\n",
      "7      8\n",
      "8      9\n",
      "10    11\n",
      "11    12\n",
      "12    13\n",
      "dtype: int64\n"
     ]
    }
   ],
   "source": [
    "y=pd.Series([11,12,13],index=[10,11,12])\n",
    "z=x.append(y)\n",
    "print(z)"
   ]
  },
  {
   "cell_type": "markdown",
   "metadata": {
    "colab_type": "text",
    "id": "ZkTW-EkbX69W"
   },
   "source": [
    "### 2. Write a Program to\n",
    "\n",
    "\n",
    "\n",
    "A. Write a code snippet to create a numpy array with elements between 12 and 36 which has a difference of 2 between two consecutive numbers (no hardcoding of values allowed). Display the contents of the array. (1 Marks) \n",
    " \n",
    "B.\tWrite a code snippet to convert the above-mentioned 1-D array into an array of dimension 3x4. (1 Marks) \n",
    " \n",
    "C.\tWrite a code snippet to fetch the elements present in the 2nd to 4th position of 2nd row from the above-created data frame. Store the result set in a variable. (1 Marks) \n",
    " \n",
    "d.What will be the output for the following code?\n",
    "\n",
    "def func(x):\n",
    "\n",
    "    return lambda y: (x ** y)+(y + 1)\n",
    "\n",
    "func5 = func(5)\n",
    "\n",
    "func5(2)\n",
    "\n",
    "e.What will be the result of the following Python Code?\n",
    "\n",
    "    5%2 > 1 or 4/2 !=2\n",
    " \n",
    "f. What is the output for the following program?\n",
    "\n",
    "A = “20”\n",
    "\n",
    "B = “20”\n",
    "\n",
    "C = A+B\n",
    "\n",
    "print(C)\n",
    "\n",
    "g.What is the output of the following code:\n",
    "\n",
    "x= [15,18]\n",
    "y= [6,7]\n",
    "x+y\n"
   ]
  },
  {
   "cell_type": "markdown",
   "metadata": {},
   "source": [
    "2.A"
   ]
  },
  {
   "cell_type": "code",
   "execution_count": 88,
   "metadata": {},
   "outputs": [
    {
     "name": "stdout",
     "output_type": "stream",
     "text": [
      "[12 14 16 18 20 22 24 26 28 30 32 34]\n",
      "\n"
     ]
    }
   ],
   "source": [
    "x = np.arange(12,36,2)\n",
    "print(x)\n",
    "print()"
   ]
  },
  {
   "cell_type": "markdown",
   "metadata": {},
   "source": [
    "2.B"
   ]
  },
  {
   "cell_type": "code",
   "execution_count": 90,
   "metadata": {},
   "outputs": [
    {
     "name": "stdout",
     "output_type": "stream",
     "text": [
      "[[12 14 16 18]\n",
      " [20 22 24 26]\n",
      " [28 30 32 34]]\n",
      "\n"
     ]
    }
   ],
   "source": [
    "x=x.reshape(3,4)\n",
    "print(x)\n",
    "print()"
   ]
  },
  {
   "cell_type": "markdown",
   "metadata": {},
   "source": [
    "2.C"
   ]
  },
  {
   "cell_type": "code",
   "execution_count": 92,
   "metadata": {},
   "outputs": [
    {
     "name": "stdout",
     "output_type": "stream",
     "text": [
      "[[22 24 26]]\n",
      "\n"
     ]
    }
   ],
   "source": [
    "result = x[1:2,1:]\n",
    "print(result)\n",
    "print()"
   ]
  },
  {
   "cell_type": "markdown",
   "metadata": {},
   "source": [
    "2.D"
   ]
  },
  {
   "cell_type": "code",
   "execution_count": 1,
   "metadata": {
    "colab": {},
    "colab_type": "code",
    "id": "p6SnzAOeX69X"
   },
   "outputs": [
    {
     "data": {
      "text/plain": [
       "28"
      ]
     },
     "execution_count": 1,
     "metadata": {},
     "output_type": "execute_result"
    }
   ],
   "source": [
    "28"
   ]
  },
  {
   "cell_type": "markdown",
   "metadata": {},
   "source": [
    "2.E"
   ]
  },
  {
   "cell_type": "code",
   "execution_count": 2,
   "metadata": {},
   "outputs": [
    {
     "data": {
      "text/plain": [
       "False"
      ]
     },
     "execution_count": 2,
     "metadata": {},
     "output_type": "execute_result"
    }
   ],
   "source": [
    "False"
   ]
  },
  {
   "cell_type": "markdown",
   "metadata": {},
   "source": [
    "2.F"
   ]
  },
  {
   "cell_type": "code",
   "execution_count": 3,
   "metadata": {},
   "outputs": [
    {
     "data": {
      "text/plain": [
       "2020"
      ]
     },
     "execution_count": 3,
     "metadata": {},
     "output_type": "execute_result"
    }
   ],
   "source": [
    "2020"
   ]
  },
  {
   "cell_type": "markdown",
   "metadata": {},
   "source": [
    "2.G"
   ]
  },
  {
   "cell_type": "code",
   "execution_count": 4,
   "metadata": {},
   "outputs": [
    {
     "data": {
      "text/plain": [
       "[15, 18, 6, 7]"
      ]
     },
     "execution_count": 4,
     "metadata": {},
     "output_type": "execute_result"
    }
   ],
   "source": [
    " [15, 18, 6, 7]"
   ]
  },
  {
   "cell_type": "markdown",
   "metadata": {},
   "source": [
    "# SECTION B : 30 Marks\n",
    "1.There is a wood log cutting factory. We are calculating the revenue and the no. of pieces that the wood is cut into. We are given a wood log of length n cms and a table of prices p[i] for i = 1, 2, …, n. Here p[i] is the price of a wood log of length ’i’ cms. We have to find the optimal way of cutting the wood log to make the furniture so that maximum revenue can be generated by selling the pieces of wood. (15 MARKS)"
   ]
  },
  {
   "cell_type": "code",
   "execution_count": 1,
   "metadata": {},
   "outputs": [
    {
     "name": "stdout",
     "output_type": "stream",
     "text": [
      " length of the wood log in cms: 4\n",
      " price of a wood log of length 1 in: 10\n",
      " price of a wood log of length 2 in: 20\n",
      " price of a wood log of length 3 in: 304\n",
      " price of a wood log of length 4 in: 40\n",
      "The maximum revenue that can be obtained: 314\n",
      "The rod needs to be cut into length(s) of 1 3 "
     ]
    }
   ],
   "source": [
    "def wood_log(p, n):\n",
    "   \n",
    "    # r[i] is the maximum revenue for rod length i\n",
    "    # r[i] = -1 means that r[i] has not been calculated yet\n",
    "    r = [-1]*(n + 1)\n",
    "    r[0] = 0\n",
    " \n",
    "    # s[i] is the length of the initial cut needed for rod length i\n",
    "   \n",
    "    s = [-1]*(n + 1)\n",
    " \n",
    "    for i in range(1, n + 1):\n",
    "        q = -1\n",
    "        for j in range(1, i + 1):\n",
    "            temp = p[j] + r[i - j]\n",
    "            if q < temp:\n",
    "                q = temp\n",
    "                s[i] = j\n",
    "        r[i] = q\n",
    " \n",
    "    return r, s\n",
    " \n",
    " \n",
    "n = int(input(' length of the wood log in cms: '))\n",
    " \n",
    "# p[i] is the price of a wood log of length i\n",
    "# p[0] is not needed, so it is set to None\n",
    "p = [None]\n",
    "for i in range(1, n + 1):\n",
    "    price = input(' price of a wood log of length {} in: '.format(i))\n",
    "    p.append(int(price))\n",
    " \n",
    "r, s = wood_log(p, n)\n",
    "print('The maximum revenue that can be obtained:', r[n])\n",
    "print('The rod needs to be cut into length(s) of ', end='')\n",
    "while n > 0:\n",
    "    print(s[n], end=' ')\n",
    "    n -= s[n]"
   ]
  },
  {
   "cell_type": "markdown",
   "metadata": {},
   "source": [
    " 2. Create a scientific calculator using python. The calculator should give a menu to the user asking the type of mathematical operation to be performed (1. Arithmetic 2. Trigonometric 3. Logarithmic). According to the choice of the user, operations are performed on the numbers entered. Any innovation in this basic calculator model will be given more marks. (15 MARKS) SAMPLE INPUT: SCIENTIFIC CALCULATOR\n",
    "\n",
    "ARITHMETIC 2. TRIGNOMETRIC\n",
    "Please select an option of your choice1 Enter the first number23\n",
    "\n",
    "Enter the second number56\n",
    "\n",
    "1.Addition 2. Subtraction 3. Multiplication 4. Division Please input the number of your choice of operation4 SAMPLE OUTPUT: The division of the first number with the second numbers is 0.4107142857142857"
   ]
  },
  {
   "cell_type": "code",
   "execution_count": 4,
   "metadata": {},
   "outputs": [
    {
     "name": "stdout",
     "output_type": "stream",
     "text": [
      "Enter the operations to be performed(1 for Arithmetic,2 for Trignometric,3 for Logarithmic)1\n",
      "enter the first number3\n",
      "enter the second number4\n",
      "Please input the number of your choice of operation 1.Addition 2. Subtraction 3. Multiplication 4. Division1\n",
      "The Addition of the first number with the second numbers is 7\n"
     ]
    }
   ],
   "source": [
    "inp = int(input('Enter the operations to be performed(1 for Arithmetic,2 for Trignometric,3 for Logarithmic)'))\n",
    "if inp==1:\n",
    "    num1=int(input('enter the first number'))\n",
    "    num2=int(input('enter the second number'))\n",
    "    inp2=int(input('Please input the number of your choice of operation 1.Addition 2. Subtraction 3. Multiplication 4. Division'))\n",
    "    if inp2==1:\n",
    "        a=num1+num2\n",
    "        print('The Addition of the first number with the second numbers is %d'%(a))\n",
    "    elif inp2==2:\n",
    "        a=num1-num2\n",
    "        print('The Subtraction of the first number with the second numbers is %d'%(a))\n",
    "    elif inp2==3:\n",
    "        a=num1*num2\n",
    "        print('The Multiplication of the first number with the second numbers is {}'.format(a))\n",
    "    elif inp2==4:\n",
    "        a=num1/num2\n",
    "        print('The Multiplication of the first number with the second numbers is {}'.format(a))\n",
    "    else:\n",
    "        print('enter a valid input')\n",
    "elif inp==2:\n",
    "    print('Trignometric functions are to be performed')\n",
    "elif inp==3:\n",
    "    print('Logarithmic functions are to be performed')\n",
    "else:\n",
    "    print('enter a valid input')"
   ]
  }
 ],
 "metadata": {
  "colab": {
   "collapsed_sections": [],
   "name": "NPV_FINAL_EXAM_SET_2_PAPER (1) (1).IPYNB",
   "provenance": []
  },
  "kernelspec": {
   "display_name": "Python 3",
   "language": "python",
   "name": "python3"
  },
  "language_info": {
   "codemirror_mode": {
    "name": "ipython",
    "version": 3
   },
   "file_extension": ".py",
   "mimetype": "text/x-python",
   "name": "python",
   "nbconvert_exporter": "python",
   "pygments_lexer": "ipython3",
   "version": "3.7.6"
  }
 },
 "nbformat": 4,
 "nbformat_minor": 1
}
